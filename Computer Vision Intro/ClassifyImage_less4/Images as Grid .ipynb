{
 "cells": [
  {
   "cell_type": "code",
   "execution_count": 20,
   "metadata": {},
   "outputs": [],
   "source": [
    "import numpy as np\n",
    "import matplotlib.image as mpimg\n",
    "import matplotlib.pyplot as plt\n",
    "import cv2\n",
    "\n",
    "%matplotlib qt \n",
    "# qt makes popup when image is displayed on screen"
   ]
  },
  {
   "cell_type": "code",
   "execution_count": 21,
   "metadata": {},
   "outputs": [
    {
     "name": "stdout",
     "output_type": "stream",
     "text": [
      "Image dimensions (427, 640, 3)\n"
     ]
    }
   ],
   "source": [
    "# Read in the image\n",
    "image = mpimg.imread('image/waymo_car.jpg')\n",
    "\n",
    "#print\n",
    "print('Image dimensions', image.shape)"
   ]
  },
  {
   "cell_type": "code",
   "execution_count": 22,
   "metadata": {},
   "outputs": [
    {
     "data": {
      "text/plain": [
       "<matplotlib.image.AxesImage at 0x2d5cdf58da0>"
      ]
     },
     "execution_count": 22,
     "metadata": {},
     "output_type": "execute_result"
    }
   ],
   "source": [
    "# change the image to grayscale\n",
    "gray_image = cv2.cvtColor(image, cv2.COLOR_BGR2GRAY)\n",
    "\n",
    "plt.imshow(gray_image, cmap='gray')"
   ]
  },
  {
   "cell_type": "code",
   "execution_count": 30,
   "metadata": {},
   "outputs": [
    {
     "name": "stdout",
     "output_type": "stream",
     "text": [
      "29\n"
     ]
    }
   ],
   "source": [
    "# print the specific pixel value of the image\n",
    "x = 190\n",
    "y = 375\n",
    "val_pix = gray_image[y, x]\n",
    "print(val_pix)"
   ]
  },
  {
   "cell_type": "code",
   "execution_count": 33,
   "metadata": {},
   "outputs": [
    {
     "name": "stdout",
     "output_type": "stream",
     "text": [
      "160\n"
     ]
    }
   ],
   "source": [
    "x = 400\n",
    "y = 300\n",
    "print(gray_image[y, x]) # pixel value for grayscale image 0-255"
   ]
  },
  {
   "cell_type": "code",
   "execution_count": 34,
   "metadata": {},
   "outputs": [
    {
     "name": "stdout",
     "output_type": "stream",
     "text": [
      "Max: 255 Min: 3\n"
     ]
    }
   ],
   "source": [
    "# find the maximum and minimum grayscale values in this image\n",
    "max_val = np.amax(gray_image)\n",
    "min_val = np.amin(gray_image)\n",
    "print(\"Max: {} Min: {}\".format(max_val, min_val))"
   ]
  },
  {
   "cell_type": "code",
   "execution_count": 36,
   "metadata": {},
   "outputs": [
    {
     "data": {
      "text/plain": [
       "<matplotlib.image.AxesImage at 0x2d5d48850f0>"
      ]
     },
     "execution_count": 36,
     "metadata": {},
     "output_type": "execute_result"
    }
   ],
   "source": [
    "# create a 5 X 5 image just grayscale, numerical value\n",
    "tiny_image = np.array([[10, 20, 30, 150, 120],\n",
    "                      [200, 200, 250, 70, 3],\n",
    "                      [50, 150, 180, 40, 90],\n",
    "                      [240, 100 , 50, 255, 10],\n",
    "                      [30, 0, 75, 190, 220]])\n",
    "# To show the pixel grid, use matshow\n",
    "plt.matshow(tiny_image, cmap='gray')"
   ]
  },
  {
   "cell_type": "code",
   "execution_count": null,
   "metadata": {},
   "outputs": [],
   "source": []
  }
 ],
 "metadata": {
  "kernelspec": {
   "display_name": "Python 3",
   "language": "python",
   "name": "python3"
  },
  "language_info": {
   "codemirror_mode": {
    "name": "ipython",
    "version": 3
   },
   "file_extension": ".py",
   "mimetype": "text/x-python",
   "name": "python",
   "nbconvert_exporter": "python",
   "pygments_lexer": "ipython3",
   "version": "3.7.3"
  }
 },
 "nbformat": 4,
 "nbformat_minor": 2
}
